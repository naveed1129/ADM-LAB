{
  "nbformat": 4,
  "nbformat_minor": 0,
  "metadata": {
    "colab": {
      "provenance": []
    },
    "kernelspec": {
      "name": "python3",
      "display_name": "Python 3"
    },
    "language_info": {
      "name": "python"
    }
  },
  "cells": [
    {
      "cell_type": "code",
      "execution_count": null,
      "metadata": {
        "id": "O4hEFL4Zwhed"
      },
      "outputs": [],
      "source": [
        "import numpy as np\n",
        "import pandas as pd"
      ]
    },
    {
      "cell_type": "code",
      "source": [
        "file_path = '/content/university_student.csv'\n",
        "df = pd.read_csv(file_path)"
      ],
      "metadata": {
        "id": "ky7uG55gy5sO"
      },
      "execution_count": null,
      "outputs": []
    },
    {
      "cell_type": "code",
      "source": [
        "df.fillna(df.mean(numeric_only=True), inplace=True)"
      ],
      "metadata": {
        "id": "oOX8euPSy5ul"
      },
      "execution_count": null,
      "outputs": []
    },
    {
      "cell_type": "code",
      "source": [
        "gender_mapping = {\"Male\": 0, \"Female\": 1}\n",
        "school_mapping = {\"Public\": 0, \"Private\": 1}\n",
        "grade_mapping = {\"A\": 0, \"B\": 1, \"C\": 2, \"D\": 3, \"F\": 4}"
      ],
      "metadata": {
        "id": "SPK-DTAxy5wu"
      },
      "execution_count": null,
      "outputs": []
    },
    {
      "cell_type": "code",
      "source": [
        "df[\"Gender\"] = df[\"Gender\"].map(gender_mapping)\n",
        "df[\"School Type\"] = df[\"School Type\"].map(school_mapping)\n",
        "df[\"Grade\"] = df[\"Grade\"].map(grade_mapping)"
      ],
      "metadata": {
        "id": "kz6jo8eHy5yn"
      },
      "execution_count": null,
      "outputs": []
    },
    {
      "cell_type": "code",
      "source": [
        "df[\"Date of Birth\"] = pd.to_datetime(df[\"Date of Birth\"])\n",
        "df[\"Age\"] = 2025 - df[\"Date of Birth\"].dt.year"
      ],
      "metadata": {
        "id": "nhhWDKaoy50d"
      },
      "execution_count": null,
      "outputs": []
    },
    {
      "cell_type": "code",
      "source": [
        "df[\"Total Score\"] = df[\"Math Score\"] + df[\"Reading Score\"] + df[\"Writing Score\"]"
      ],
      "metadata": {
        "id": "iNzo4yfnzlam"
      },
      "execution_count": null,
      "outputs": []
    },
    {
      "cell_type": "code",
      "source": [
        "data = df.to_numpy()"
      ],
      "metadata": {
        "id": "7UX6wAvIzleX"
      },
      "execution_count": null,
      "outputs": []
    },
    {
      "cell_type": "code",
      "source": [
        "grade_col = df.columns.get_loc(\"Grade\")\n",
        "age_col = df.columns.get_loc(\"Age\")\n",
        "total_score_col = df.columns.get_loc(\"Total Score\")\n",
        "study_time_col = df.columns.get_loc(\"Study Time\")\n",
        "absences_col = df.columns.get_loc(\"Absences\")"
      ],
      "metadata": {
        "id": "Pr9k8rgozlgN"
      },
      "execution_count": null,
      "outputs": []
    },
    {
      "cell_type": "code",
      "source": [
        "unique_grades = np.unique(data[:, grade_col])\n"
      ],
      "metadata": {
        "id": "UmyhiUs4zlkt"
      },
      "execution_count": null,
      "outputs": []
    },
    {
      "cell_type": "code",
      "source": [
        "grouped_results = []\n",
        "for grade in unique_grades:\n",
        "    grade_data = data[data[:, grade_col] == grade]\n",
        "    avg_age = np.mean(grade_data[:, age_col])\n",
        "    avg_total_score = np.mean(grade_data[:, total_score_col])\n",
        "    max_total_score = np.max(grade_data[:, total_score_col])\n",
        "    min_total_score = np.min(grade_data[:, total_score_col])\n",
        "    avg_study_time = np.mean(grade_data[:, study_time_col])\n",
        "    total_absences = np.sum(grade_data[:, absences_col])"
      ],
      "metadata": {
        "id": "GA77yJwAzlqN"
      },
      "execution_count": null,
      "outputs": []
    },
    {
      "cell_type": "code",
      "source": [
        "  grouped_results.append([grade, avg_age, avg_total_score, max_total_score, min_total_score, avg_study_time, total_absences])"
      ],
      "metadata": {
        "id": "L1vaXy_dzlut"
      },
      "execution_count": null,
      "outputs": []
    },
    {
      "cell_type": "code",
      "source": [
        "grouped_results = np.array(grouped_results, dtype=object)\n"
      ],
      "metadata": {
        "id": "30aXWcn6zlxN"
      },
      "execution_count": null,
      "outputs": []
    },
    {
      "cell_type": "code",
      "source": [
        "print(\"Grade | Avg Age | Avg Total Score | Max Total Score | Min Total Score | Avg Study Time | Total Absences\")\n",
        "for row in grouped_results:\n",
        "    print(f\"{int(row[0])}     | {row[1]:.2f}    | {row[2]:.2f}           | {int(row[3])}               | {int(row[4])}               | {row[5]:.2f}            | {int(row[6])}\")"
      ],
      "metadata": {
        "colab": {
          "base_uri": "https://localhost:8080/"
        },
        "id": "LyDnf6umzlzF",
        "outputId": "4baec95c-459c-48b8-a80a-20fa2cdc74cc"
      },
      "execution_count": null,
      "outputs": [
        {
          "output_type": "stream",
          "name": "stdout",
          "text": [
            "Grade | Avg Age | Avg Total Score | Max Total Score | Min Total Score | Avg Study Time | Total Absences\n",
            "4     | 25.31    | 210.06           | 239               | 177               | 9.06            | 38\n"
          ]
        }
      ]
    }
  ]
}